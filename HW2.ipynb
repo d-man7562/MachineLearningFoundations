{
  "cells": [
    {
      "cell_type": "markdown",
      "metadata": {
        "id": "MenalyJM5GdM"
      },
      "source": [
        "# COS 322 Fall 2025 - Homework 2\n",
        "## Data Preprocessing\n",
        "\n",
        "\n",
        "This assignment will help you practice data cleaning, handling missing values, encoding categorical data, and feature scaling using Pandas and Scikit-learn in Google Colab.\n",
        "\n",
        "Instructions:\n",
        "\n",
        "- Download the dataset pima_indians_diabetes_for_preprocessing.csv from BrightSpace.\n",
        "\n",
        "- Upload the file to your Colab project folder.\n",
        "\n",
        "- Complete each task below in a separate code cell.\n",
        "\n",
        "- Answer the short questions in text cells.\n",
        "\n",
        "- Submit your completed .ipynb file to BrightSpace.\n",
        "\n",
        "\n",
        "Due: Sep 24th, 11:59 PM\n",
        "\n",
        "Kind reminder: Late submissions will incur a 10% deduction per day past the deadline. Please plan accordingly and submit your work on time!"
      ]
    },
    {
      "cell_type": "markdown",
      "metadata": {
        "id": "mm5C__TXx41U"
      },
      "source": [
        "### **1.Load and inspect the dataset (10 pts)**\n",
        "\n",
        "- Import the dataset by pandas command\n",
        "\n",
        "- Use at leaset three different pandas commands to inspect the dataset\n",
        "\n",
        "- Question: How many rows and columns does the dataset have?\n",
        "\n",
        "\n"
      ]
    },
    {
      "cell_type": "code",
      "execution_count": null,
      "metadata": {
        "id": "BSRXwxpIBTTl"
      },
      "outputs": [],
      "source": [
        "# PLEASE START YOUR SOLUTION\n",
        "import pandas as pd\n",
        "df = pd.read_csv('C:\\\\Users\\\\every\\\\pima_indians_diabetes_for_preprocessing.csv')\n",
        "print(df.shape)\n",
        "print(df.ndim)\n",
        "print(df.size)\n",
        "print(\"The dataset has 811 rows and 11 columns\")\n",
        "print(df.describe)\n"
      ]
    },
    {
      "cell_type": "markdown",
      "metadata": {
        "id": "YPe7V5Q0zNxR"
      },
      "source": [
        "### **2.Remove duplicate records(10 pts)**\n",
        "\n",
        "- Check how many duplicate rows or whether empty columns exist\n",
        "\n",
        "- Remove duplicates\n",
        "\n",
        "- Question: what is the updated shape of the DataFrame"
      ]
    },
    {
      "cell_type": "code",
      "execution_count": null,
      "metadata": {
        "id": "2zN6O2tkVEBJ"
      },
      "outputs": [],
      "source": [
        "# PLEASE START YOUR SOLUTION\n",
        "print(\"Duplicate rows: \",df.duplicated().sum())\n",
        "print(\"Null entries:\\n\", df.isnull().sum())\n",
        "#df_clean = df.dropna()\n",
        "df_clean = df.drop_duplicates()\n",
        "print(\"New dimensions after drop dupliciates:\\n\",df_clean.shape)\n"
      ]
    },
    {
      "cell_type": "markdown",
      "metadata": {
        "id": "oCPzLZPQjNNQ"
      },
      "source": [
        "### **3.Handle missing data (20 pts)**\n",
        "\n",
        "- Identify missing values using .isnull().sum().\n",
        "\n",
        "- For categorical column purpose, fill missing values using the most frequent value.\n",
        "\n",
        "- For numerical columns, drop rows with remaining missing values."
      ]
    },
    {
      "cell_type": "code",
      "execution_count": null,
      "metadata": {
        "id": "qoPXLmjzj0JV"
      },
      "outputs": [],
      "source": [
        "# PLEASE START YOUR SOLUTION\n",
        "print(\"Null entries:\\n\", df.isnull().sum())\n",
        "#the only missing values are from numerical columns so we will just dropna\n",
        "df_clean = df.dropna()\n",
        "print(\"New dimensions after drop na:\\n\",df_clean.shape)\n",
        "\n"
      ]
    },
    {
      "cell_type": "markdown",
      "metadata": {
        "id": "9qbnuwdukpY9"
      },
      "source": [
        "### **4.Encode categorical features(20 pts)**\n",
        "\n",
        "- Encode categorical column using pd.get_dummies()\n",
        "\n",
        "- Questions: How many columns add after this encoding process"
      ]
    },
    {
      "cell_type": "code",
      "execution_count": 142,
      "metadata": {
        "id": "rgPNevnyjvlf"
      },
      "outputs": [
        {
          "name": "stdout",
          "output_type": "stream",
          "text": [
            "     Pregnancies  Glucose  BloodPressure  SkinThickness  Weight  Insulin  \\\n",
            "0              6    148.0           72.0             35     NaN      0.0   \n",
            "1              1     85.0           66.0             29     NaN      0.0   \n",
            "2              8    183.0           64.0              0     NaN      0.0   \n",
            "3              1     89.0           66.0             23     NaN     94.0   \n",
            "4              0    137.0           40.0             35     NaN    168.0   \n",
            "..           ...      ...            ...            ...     ...      ...   \n",
            "806           10    101.0           76.0             48     NaN    180.0   \n",
            "807            2    122.0           70.0             27     NaN      0.0   \n",
            "808            5    121.0           72.0             23     NaN    112.0   \n",
            "809            1    126.0           60.0              0     NaN      0.0   \n",
            "810            1     93.0           70.0             31     NaN      0.0   \n",
            "\n",
            "      BMI  DiabetesPedigreeFunction  Age  Outcome  Occuption_Education  \\\n",
            "0    33.6                     0.627   50        1                False   \n",
            "1    26.6                     0.351   31        0                False   \n",
            "2    23.3                     0.672   32        1                 True   \n",
            "3    28.1                     0.167   21        0                False   \n",
            "4    43.1                     2.288   33        1                 True   \n",
            "..    ...                       ...  ...      ...                  ...   \n",
            "806  32.9                     0.171   63        0                False   \n",
            "807  36.8                     0.340   27        0                False   \n",
            "808  26.2                     0.245   30        0                False   \n",
            "809  30.1                     0.349   47        1                False   \n",
            "810  30.4                     0.315   23        0                False   \n",
            "\n",
            "     Occuption_Healthcare  Occuption_Manual  Occuption_Office  Occuption_Other  \n",
            "0                   False             False              True            False  \n",
            "1                    True             False             False            False  \n",
            "2                   False             False             False            False  \n",
            "3                   False             False             False             True  \n",
            "4                   False             False             False            False  \n",
            "..                    ...               ...               ...              ...  \n",
            "806                 False              True             False            False  \n",
            "807                 False             False             False             True  \n",
            "808                 False              True             False            False  \n",
            "809                  True             False             False            False  \n",
            "810                 False             False              True            False  \n",
            "\n",
            "[811 rows x 15 columns]\n",
            "added 4 columns\n"
          ]
        }
      ],
      "source": [
        "# PLEASE START YOUR SOLUTION\n",
        "print(pd.get_dummies(df))\n",
        "print(f\"added {len((pd.get_dummies(df)).columns)-11} columns\")"
      ]
    },
    {
      "cell_type": "markdown",
      "metadata": {
        "id": "4DVQ3BswlMf3"
      },
      "source": [
        "### **5.Feature Scaling(20 pts)**\n",
        "\n",
        "\n",
        "- Use MinMaxScaler to scale all features except the label column\n",
        "\n",
        "- Save the result to a new DataFrame: df_minmax\n",
        "\n",
        "- Use StandardScaler to scale all features except the label column and save the result to df_std"
      ]
    },
    {
      "cell_type": "code",
      "execution_count": null,
      "metadata": {
        "id": "w-NQKkyGl6rC"
      },
      "outputs": [
        {
          "name": "stdout",
          "output_type": "stream",
          "text": [
            "Index(['Pregnancies', 'Glucose', 'BloodPressure', 'SkinThickness', 'Weight',\n",
            "       'Insulin', 'BMI', 'DiabetesPedigreeFunction', 'Age', 'Outcome'],\n",
            "      dtype='object')\n",
            "<bound method NDFrame.head of      Pregnancies   Glucose  BloodPressure  SkinThickness  Weight   Insulin  \\\n",
            "0       0.352941  0.743719       0.590164       0.353535     NaN  0.000000   \n",
            "1       0.058824  0.427136       0.540984       0.292929     NaN  0.000000   \n",
            "2       0.470588  0.919598       0.524590       0.000000     NaN  0.000000   \n",
            "3       0.058824  0.447236       0.540984       0.232323     NaN  0.111111   \n",
            "4       0.000000  0.688442       0.327869       0.353535     NaN  0.198582   \n",
            "..           ...       ...            ...            ...     ...       ...   \n",
            "806     0.588235  0.507538       0.622951       0.484848     NaN  0.212766   \n",
            "807     0.117647  0.613065       0.573770       0.272727     NaN  0.000000   \n",
            "808     0.294118  0.608040       0.590164       0.232323     NaN  0.132388   \n",
            "809     0.058824  0.633166       0.491803       0.000000     NaN  0.000000   \n",
            "810     0.058824  0.467337       0.573770       0.313131     NaN  0.000000   \n",
            "\n",
            "          BMI  DiabetesPedigreeFunction       Age  Outcome   Occuption  \n",
            "0    0.500745                  0.234415  0.483333      1.0      Office  \n",
            "1    0.396423                  0.116567  0.166667      0.0  Healthcare  \n",
            "2    0.347243                  0.253629  0.183333      1.0   Education  \n",
            "3    0.418778                  0.038002  0.000000      0.0       Other  \n",
            "4    0.642325                  0.943638  0.200000      1.0   Education  \n",
            "..        ...                       ...       ...      ...         ...  \n",
            "806  0.490313                  0.039710  0.700000      0.0      Manual  \n",
            "807  0.548435                  0.111870  0.100000      0.0       Other  \n",
            "808  0.390462                  0.071307  0.150000      0.0      Manual  \n",
            "809  0.448584                  0.115713  0.433333      1.0  Healthcare  \n",
            "810  0.453055                  0.101196  0.033333      0.0      Office  \n",
            "\n",
            "[811 rows x 11 columns]>\n",
            "<bound method NDFrame.head of      Pregnancies   Glucose  BloodPressure  SkinThickness  Weight   Insulin  \\\n",
            "0       0.352941  0.743719       0.590164       0.353535     NaN  0.000000   \n",
            "1       0.058824  0.427136       0.540984       0.292929     NaN  0.000000   \n",
            "2       0.470588  0.919598       0.524590       0.000000     NaN  0.000000   \n",
            "3       0.058824  0.447236       0.540984       0.232323     NaN  0.111111   \n",
            "4       0.000000  0.688442       0.327869       0.353535     NaN  0.198582   \n",
            "..           ...       ...            ...            ...     ...       ...   \n",
            "806     0.588235  0.507538       0.622951       0.484848     NaN  0.212766   \n",
            "807     0.117647  0.613065       0.573770       0.272727     NaN  0.000000   \n",
            "808     0.294118  0.608040       0.590164       0.232323     NaN  0.132388   \n",
            "809     0.058824  0.633166       0.491803       0.000000     NaN  0.000000   \n",
            "810     0.058824  0.467337       0.573770       0.313131     NaN  0.000000   \n",
            "\n",
            "          BMI  DiabetesPedigreeFunction       Age  Outcome   Occuption  \n",
            "0    0.500745                  0.234415  0.483333      1.0      Office  \n",
            "1    0.396423                  0.116567  0.166667      0.0  Healthcare  \n",
            "2    0.347243                  0.253629  0.183333      1.0   Education  \n",
            "3    0.418778                  0.038002  0.000000      0.0       Other  \n",
            "4    0.642325                  0.943638  0.200000      1.0   Education  \n",
            "..        ...                       ...       ...      ...         ...  \n",
            "806  0.490313                  0.039710  0.700000      0.0      Manual  \n",
            "807  0.548435                  0.111870  0.100000      0.0       Other  \n",
            "808  0.390462                  0.071307  0.150000      0.0      Manual  \n",
            "809  0.448584                  0.115713  0.433333      1.0  Healthcare  \n",
            "810  0.453055                  0.101196  0.033333      0.0      Office  \n",
            "\n",
            "[811 rows x 11 columns]>\n"
          ]
        },
        {
          "name": "stderr",
          "output_type": "stream",
          "text": [
            "c:\\Users\\every\\AppData\\Local\\Programs\\Python\\Python312\\Lib\\site-packages\\sklearn\\utils\\_array_api.py:686: RuntimeWarning: All-NaN slice encountered\n",
            "  return xp.asarray(numpy.nanmin(X, axis=axis))\n",
            "c:\\Users\\every\\AppData\\Local\\Programs\\Python\\Python312\\Lib\\site-packages\\sklearn\\utils\\_array_api.py:706: RuntimeWarning: All-NaN slice encountered\n",
            "  return xp.asarray(numpy.nanmax(X, axis=axis))\n",
            "c:\\Users\\every\\AppData\\Local\\Programs\\Python\\Python312\\Lib\\site-packages\\sklearn\\utils\\_array_api.py:686: RuntimeWarning: All-NaN slice encountered\n",
            "  return xp.asarray(numpy.nanmin(X, axis=axis))\n",
            "c:\\Users\\every\\AppData\\Local\\Programs\\Python\\Python312\\Lib\\site-packages\\sklearn\\utils\\_array_api.py:706: RuntimeWarning: All-NaN slice encountered\n",
            "  return xp.asarray(numpy.nanmax(X, axis=axis))\n"
          ]
        }
      ],
      "source": [
        "# PLEASE START YOUR SOLUTION\n",
        "from sklearn.preprocessing import MinMaxScaler, StandardScaler\n",
        "scaler = MinMaxScaler()\n",
        "# Establish columns of only numeric values\n",
        "numeric_cols = df.select_dtypes(include='number').columns\n",
        "\n",
        "# Scale, set to dataframe, and concat Occupation column which was left behind for being numeric\n",
        "print(numeric_cols)\n",
        "df_minmax = scaler.fit_transform(df[numeric_cols])\n",
        "df_minmax = pd.DataFrame(df_minmax, columns = df[numeric_cols].columns)\n",
        "# We need axis=1 to make sure it concats a new column and not to rows.\n",
        "df_minmax= pd.concat([df_minmax,df['Occuption']],axis=1)\n",
        "print(df_minmax.head)\n",
        "# Repeat above process for standard deviation\n",
        "std = StandardScaler()\n",
        "df_std = scaler.fit_transform(df[numeric_cols])\n",
        "df_std= pd.DataFrame(df_std, columns = df[numeric_cols].columns)\n",
        "df_std = pd.concat([df_std,df['Occuption']],axis=1)\n",
        "print(df_std.head)\n"
      ]
    },
    {
      "cell_type": "markdown",
      "metadata": {
        "id": "iu2xziS1l7Jv"
      },
      "source": [
        "### **6.Split dataset and save thems(20 pts)**\n",
        "\n",
        "- Split your preprocessed df_std into 80% training set and 20% testing sets\n",
        "\n",
        "- Save them with all feature values rounded to 4 decimal precision\n"
      ]
    },
    {
      "cell_type": "code",
      "execution_count": null,
      "metadata": {
        "id": "REHumuPToAxy"
      },
      "outputs": [
        {
          "name": "stdout",
          "output_type": "stream",
          "text": [
            "     Pregnancies  Glucose  BloodPressure  SkinThickness  Weight  Insulin  \\\n",
            "0         0.3529   0.7437         0.5902         0.3535     NaN   0.0000   \n",
            "1         0.0588   0.4271         0.5410         0.2929     NaN   0.0000   \n",
            "2         0.4706   0.9196         0.5246         0.0000     NaN   0.0000   \n",
            "3         0.0588   0.4472         0.5410         0.2323     NaN   0.1111   \n",
            "4         0.0000   0.6884         0.3279         0.3535     NaN   0.1986   \n",
            "..           ...      ...            ...            ...     ...      ...   \n",
            "806       0.5882   0.5075         0.6230         0.4848     NaN   0.2128   \n",
            "807       0.1176   0.6131         0.5738         0.2727     NaN   0.0000   \n",
            "808       0.2941   0.6080         0.5902         0.2323     NaN   0.1324   \n",
            "809       0.0588   0.6332         0.4918         0.0000     NaN   0.0000   \n",
            "810       0.0588   0.4673         0.5738         0.3131     NaN   0.0000   \n",
            "\n",
            "        BMI  DiabetesPedigreeFunction     Age  Outcome   Occuption  \n",
            "0    0.5007                    0.2344  0.4833      1.0      Office  \n",
            "1    0.3964                    0.1166  0.1667      0.0  Healthcare  \n",
            "2    0.3472                    0.2536  0.1833      1.0   Education  \n",
            "3    0.4188                    0.0380  0.0000      0.0       Other  \n",
            "4    0.6423                    0.9436  0.2000      1.0   Education  \n",
            "..      ...                       ...     ...      ...         ...  \n",
            "806  0.4903                    0.0397  0.7000      0.0      Manual  \n",
            "807  0.5484                    0.1119  0.1000      0.0       Other  \n",
            "808  0.3905                    0.0713  0.1500      0.0      Manual  \n",
            "809  0.4486                    0.1157  0.4333      1.0  Healthcare  \n",
            "810  0.4531                    0.1012  0.0333      0.0      Office  \n",
            "\n",
            "[811 rows x 11 columns]\n",
            "(648, 11)\n",
            "(163, 11)\n",
            "811\n"
          ]
        }
      ],
      "source": [
        "# PLEASE START YOUR SOLUTION\n",
        "from sklearn.model_selection  import train_test_split\n",
        "df_std.shape\n",
        "df_rounded = df_std.round(decimals=4)\n",
        "print(df_rounded)\n",
        "train_df, test_df = train_test_split(df_rounded, test_size=0.2)\n",
        "print(train_df.shape)\n",
        "print(test_df.shape)\n",
        "print(648+163) #equals 811, original row shape\n"
      ]
    }
  ],
  "metadata": {
    "colab": {
      "provenance": []
    },
    "kernelspec": {
      "display_name": "Python 3",
      "name": "python3"
    },
    "language_info": {
      "codemirror_mode": {
        "name": "ipython",
        "version": 3
      },
      "file_extension": ".py",
      "mimetype": "text/x-python",
      "name": "python",
      "nbconvert_exporter": "python",
      "pygments_lexer": "ipython3",
      "version": "3.12.0"
    }
  },
  "nbformat": 4,
  "nbformat_minor": 0
}

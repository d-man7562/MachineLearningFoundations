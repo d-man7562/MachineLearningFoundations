{
  "cells": [
    {
      "cell_type": "markdown",
      "metadata": {
        "id": "MenalyJM5GdM"
      },
      "source": [
        "# COS 322 Fall 2025 - Homework 4\n",
        "## Decision Tree\n",
        "\n",
        "\n",
        "This assignment will help you become familiar with how to train and evaluate a Decision Tree Classifier.\n",
        "You will explore how a decision tree splits data based on feature values, measure impurity using Gini Index or Entropy, visualize the resulting tree structure, and interpret how the model makes predictions.\n",
        "\n",
        "Please complete all required tasks in a Jupyter Notebook (.ipynb file).\n",
        "When you are finished, submit your completed .ipynb file to BrightSpace.\n",
        "\n",
        "\n",
        "**Due: Oct 24th, 11:59 PM**\n",
        "\n",
        "Kind reminder: Late submissions will incur a 10% deduction per day past the deadline. Please plan accordingly and submit your work on time!"
      ]
    },
    {
      "cell_type": "markdown",
      "metadata": {
        "id": "mm5C__TXx41U"
      },
      "source": [
        "**Dataset: Iris Dataset**\n",
        "The Iris dataset is built into scikit-learn, so you can directly import it using the following code:\n",
        "\n",
        "```python\n",
        "from sklearn.datasets import load_iris\n",
        "\n",
        "# Load the Iris dataset\n",
        "iris = load_iris()\n",
        "```\n",
        "\n",
        "**Part 1 [70pt]**\n",
        "* Please train a **baseline model** by Decision Tree Classifier, and set the hyperparameters, such as criterion, max_depth, min_samples_split, etc.\n",
        "* Then make the prediction on the test set, show the confusion matrix, calculate and report: Accuracy,Precision, Recall F1-Score.\n",
        "* Visualize the Tree using plot_tree(), interpret the Tree: Which features appear near the top (root node)?\n",
        "\n",
        "\n",
        "\n",
        "\n",
        "\n",
        "\n"
      ]
    },
    {
      "cell_type": "code",
      "execution_count": 115,
      "metadata": {
        "id": "2zN6O2tkVEBJ"
      },
      "outputs": [],
      "source": [
        "# PLEASE START YOUR SOLUTION\n",
        "from sklearn.tree import DecisionTreeClassifier\n",
        "from sklearn.model_selection import train_test_split\n",
        "from sklearn import metrics\n",
        "import numpy\n",
        "import pandas as pd\n",
        "# Load the Iris dataset\n",
        "iris = load_iris()\n",
        "df = pd.DataFrame(data=iris.data, columns=iris.feature_names)"
      ]
    },
    {
      "cell_type": "code",
      "execution_count": 116,
      "metadata": {
        "id": "ciXyhl4fbPKe"
      },
      "outputs": [
        {
          "data": {
            "text/html": [
              "<div>\n",
              "<style scoped>\n",
              "    .dataframe tbody tr th:only-of-type {\n",
              "        vertical-align: middle;\n",
              "    }\n",
              "\n",
              "    .dataframe tbody tr th {\n",
              "        vertical-align: top;\n",
              "    }\n",
              "\n",
              "    .dataframe thead th {\n",
              "        text-align: right;\n",
              "    }\n",
              "</style>\n",
              "<table border=\"1\" class=\"dataframe\">\n",
              "  <thead>\n",
              "    <tr style=\"text-align: right;\">\n",
              "      <th></th>\n",
              "      <th>sepal length (cm)</th>\n",
              "      <th>sepal width (cm)</th>\n",
              "      <th>petal length (cm)</th>\n",
              "      <th>petal width (cm)</th>\n",
              "      <th>type</th>\n",
              "    </tr>\n",
              "  </thead>\n",
              "  <tbody>\n",
              "    <tr>\n",
              "      <th>145</th>\n",
              "      <td>6.7</td>\n",
              "      <td>3.0</td>\n",
              "      <td>5.2</td>\n",
              "      <td>2.3</td>\n",
              "      <td>2</td>\n",
              "    </tr>\n",
              "    <tr>\n",
              "      <th>146</th>\n",
              "      <td>6.3</td>\n",
              "      <td>2.5</td>\n",
              "      <td>5.0</td>\n",
              "      <td>1.9</td>\n",
              "      <td>2</td>\n",
              "    </tr>\n",
              "    <tr>\n",
              "      <th>147</th>\n",
              "      <td>6.5</td>\n",
              "      <td>3.0</td>\n",
              "      <td>5.2</td>\n",
              "      <td>2.0</td>\n",
              "      <td>2</td>\n",
              "    </tr>\n",
              "    <tr>\n",
              "      <th>148</th>\n",
              "      <td>6.2</td>\n",
              "      <td>3.4</td>\n",
              "      <td>5.4</td>\n",
              "      <td>2.3</td>\n",
              "      <td>2</td>\n",
              "    </tr>\n",
              "    <tr>\n",
              "      <th>149</th>\n",
              "      <td>5.9</td>\n",
              "      <td>3.0</td>\n",
              "      <td>5.1</td>\n",
              "      <td>1.8</td>\n",
              "      <td>2</td>\n",
              "    </tr>\n",
              "  </tbody>\n",
              "</table>\n",
              "</div>"
            ],
            "text/plain": [
              "     sepal length (cm)  sepal width (cm)  petal length (cm)  petal width (cm)  \\\n",
              "145                6.7               3.0                5.2               2.3   \n",
              "146                6.3               2.5                5.0               1.9   \n",
              "147                6.5               3.0                5.2               2.0   \n",
              "148                6.2               3.4                5.4               2.3   \n",
              "149                5.9               3.0                5.1               1.8   \n",
              "\n",
              "     type  \n",
              "145     2  \n",
              "146     2  \n",
              "147     2  \n",
              "148     2  \n",
              "149     2  "
            ]
          },
          "execution_count": 116,
          "metadata": {},
          "output_type": "execute_result"
        }
      ],
      "source": [
        "# PLEASE START YOUR SOLUTION\n",
        "df['type'] = iris.target\n",
        "df.tail()\n",
        "\n"
      ]
    },
    {
      "cell_type": "code",
      "execution_count": 117,
      "metadata": {},
      "outputs": [],
      "source": [
        "X =  df.drop('type', axis=1)\n",
        "y = df['type']"
      ]
    },
    {
      "cell_type": "code",
      "execution_count": 118,
      "metadata": {},
      "outputs": [],
      "source": [
        "xtrain, xtest, ytrain, ytest = train_test_split(X,y, test_size=0.3, random_state=1)\n"
      ]
    },
    {
      "cell_type": "code",
      "execution_count": 119,
      "metadata": {},
      "outputs": [],
      "source": [
        "clf = DecisionTreeClassifier(criterion=\"entropy\",min_samples_split=5)\n",
        "clf = clf.fit(xtrain, ytrain)\n",
        "y_pred = clf.predict(xtest)"
      ]
    },
    {
      "cell_type": "code",
      "execution_count": 120,
      "metadata": {},
      "outputs": [
        {
          "name": "stdout",
          "output_type": "stream",
          "text": [
            "Accuracy: 0.9555555555555556\n",
            "Precision: 0.9555555555555556\n",
            "Recall: 0.9555555555555556\n",
            "F1: 0.9555555555555556\n"
          ]
        }
      ],
      "source": [
        "from sklearn import tree\n",
        "print(\"Accuracy:\",metrics.accuracy_score(ytest, y_pred))\n",
        "print(\"Precision:\",metrics.precision_score(ytest, y_pred, average='weighted'))\n",
        "print(\"Recall:\",metrics.recall_score(ytest, y_pred, average='weighted'))\n",
        "print(\"F1:\",metrics.f1_score(ytest, y_pred, average='weighted'))"
      ]
    },
    {
      "cell_type": "markdown",
      "metadata": {},
      "source": []
    },
    {
      "cell_type": "code",
      "execution_count": 121,
      "metadata": {},
      "outputs": [
        {
          "data": {
            "text/plain": [
              "[Text(0.375, 0.875, 'x[2] <= 2.6\\nentropy = 1.582\\nsamples = 105\\nvalue = [36, 32, 37]'),\n",
              " Text(0.25, 0.625, 'entropy = 0.0\\nsamples = 36\\nvalue = [36, 0, 0]'),\n",
              " Text(0.5, 0.625, 'x[3] <= 1.65\\nentropy = 0.996\\nsamples = 69\\nvalue = [0, 32, 37]'),\n",
              " Text(0.25, 0.375, 'x[2] <= 5.0\\nentropy = 0.431\\nsamples = 34\\nvalue = [0, 31, 3]'),\n",
              " Text(0.125, 0.125, 'entropy = 0.0\\nsamples = 30\\nvalue = [0, 30, 0]'),\n",
              " Text(0.375, 0.125, 'entropy = 0.811\\nsamples = 4\\nvalue = [0, 1, 3]'),\n",
              " Text(0.75, 0.375, 'x[2] <= 4.85\\nentropy = 0.187\\nsamples = 35\\nvalue = [0, 1, 34]'),\n",
              " Text(0.625, 0.125, 'entropy = 0.811\\nsamples = 4\\nvalue = [0, 1, 3]'),\n",
              " Text(0.875, 0.125, 'entropy = 0.0\\nsamples = 31\\nvalue = [0, 0, 31]')]"
            ]
          },
          "execution_count": 121,
          "metadata": {},
          "output_type": "execute_result"
        },
        {
          "data": {
            "image/png": "[encoded data removed]",
            "text/plain": [
              "<Figure size 640x480 with 1 Axes>"
            ]
          },
          "metadata": {},
          "output_type": "display_data"
        }
      ],
      "source": [
        "tree.plot_tree(clf,filled=True)"
      ]
    },
    {
      "cell_type": "markdown",
      "metadata": {},
      "source": [
        "At the top of the node there appears to be decisions for petal width and length."
      ]
    },
    {
      "cell_type": "markdown",
      "metadata": {},
      "source": [
        "**Part 2 [30pt]**\n",
        "* Train models with different depths((e.g., max_depth=2, max_depth=4, max_depth=None)\n",
        "* Then answer:\n",
        "  * How does tree depth affect accuracy?\n",
        "  * How does it affect overfitting and interpretability?"
      ]
    },
    {
      "cell_type": "code",
      "execution_count": null,
      "metadata": {
        "vscode": {
          "languageId": "julia"
        }
      },
      "outputs": [],
      "source": [
        "## How does tree depth affect accuracy?\n",
        "Tree depth can be a cause for overfitting or underfitting data\n",
        "## How deos it affect overfitting and interpretability?\n",
        "Low tree depth can cause overfitting (lack of ability to make decisions) and thus \n",
        "result in harder to decipher predicionts (bad interpretability)\n"
      ]
    },
    {
      "cell_type": "code",
      "execution_count": 122,
      "metadata": {},
      "outputs": [
        {
          "name": "stdout",
          "output_type": "stream",
          "text": [
            "training with max depth 0 failed\n",
            "md2 Accuracy: 0.9555555555555556\n",
            "md4 Accuracy: 0.9555555555555556\n",
            "md6 Accuracy: 0.9555555555555556\n"
          ]
        }
      ],
      "source": [
        "mdn = DecisionTreeClassifier(max_depth=0)\n",
        "md2 = DecisionTreeClassifier(max_depth=2)\n",
        "md4 = DecisionTreeClassifier(max_depth=4)\n",
        "md6 = DecisionTreeClassifier(max_depth=6)\n",
        "\n",
        "try:\n",
        "    mdn = mdn.fit(xtrain,ytrain)\n",
        "    mdnpred =  mdn.predict(xtest)\n",
        "    print(\"Accuracy:\",metrics.accuracy_score(ytest, mdnpred))\n",
        "except:\n",
        "    print(\"training with max depth 0 failed\")\n",
        "md2 = md2.fit(xtrain,ytrain)\n",
        "md2pred =  md2.predict(xtest)\n",
        "print(\"md2 Accuracy:\",metrics.accuracy_score(ytest, md2pred))\n",
        "md4 = md4.fit(xtrain,ytrain)\n",
        "md4pred =  md4.predict(xtest)\n",
        "print(\"md4 Accuracy:\",metrics.accuracy_score(ytest, md4pred))\n",
        "md6 = md6.fit(xtrain,ytrain)\n",
        "md6pred =  md6.predict(xtest)\n",
        "print(\"md6 Accuracy:\",metrics.accuracy_score(ytest, md6pred))\n"
      ]
    }
  ],
  "metadata": {
    "colab": {
      "provenance": []
    },
    "kernelspec": {
      "display_name": "Python 3",
      "name": "python3"
    },
    "language_info": {
      "codemirror_mode": {
        "name": "ipython",
        "version": 3
      },
      "file_extension": ".py",
      "mimetype": "text/x-python",
      "name": "python",
      "nbconvert_exporter": "python",
      "pygments_lexer": "ipython3",
      "version": "3.12.3"
    }
  },
  "nbformat": 4,
  "nbformat_minor": 0
}
